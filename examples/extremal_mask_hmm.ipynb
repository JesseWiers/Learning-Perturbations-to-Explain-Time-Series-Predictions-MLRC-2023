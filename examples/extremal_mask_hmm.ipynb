{
 "cells": [
  {
   "cell_type": "code",
   "execution_count": null,
   "metadata": {},
   "outputs": [],
   "source": [
    "\"\"\"\n",
    "This script is used to perform hyperparameter optimization for the ExtremalMaskNet model on the HMM dataset.\n",
    "\n",
    "The hyperparameter being optimized is the type of model to use for the ExtremalMaskNet(zero, gru and bi-gru).\n",
    "\n",
    "The `objective` function defines the objective for the study, which includes the creation of the models, the definition of the hyperparameters to optimize, and the computation of the objective value.\n",
    "\n",
    "The `main` function sets up the data, the classifier, and the Optuna study, and then optimizes the study.\n",
    "\n",
    "The script can be run from the command line with various options, such as whether to use pruning, which metric to use, the number of trials, and the device to use for training.\n",
    "\n",
    "Example:\n",
    "    python extremal_mask_params.py --pruning --metric aup --n-trials 100 --device \"cuda:0\"\n",
    "\"\"\""
   ]
  },
  {
   "cell_type": "code",
   "execution_count": null,
   "metadata": {},
   "outputs": [],
   "source": [
    "!pwd"
   ]
  },
  {
   "cell_type": "code",
   "execution_count": null,
   "metadata": {},
   "outputs": [],
   "source": [
    "# !scp drive/MyDrive/time_interpret.zip sample_data/"
   ]
  },
  {
   "cell_type": "code",
   "execution_count": null,
   "metadata": {},
   "outputs": [],
   "source": [
    "# The following allows you to run the extremal_mask_params for hmm dataset\n",
    "#\n",
    "# !cd ../.. && python3 time_interpret_final/experiments/hmm/extremal_mask_params.py --pruning --metric aup --n-trials 10 --device \"cpu\"\n",
    "!python3 time_interpret/experiments/hmm/extremal_mask_params.py --pruning --metric caup --n-trials 10 --device \"cpu\""
   ]
  }
 ],
 "metadata": {
  "kernelspec": {
   "display_name": "time_interpret",
   "language": "python",
   "name": "python3"
  },
  "language_info": {
   "codemirror_mode": {
    "name": "ipython",
    "version": 3
   },
   "file_extension": ".py",
   "mimetype": "text/x-python",
   "name": "python",
   "nbconvert_exporter": "python",
   "pygments_lexer": "ipython3",
   "version": "3.11.7"
  }
 },
 "nbformat": 4,
 "nbformat_minor": 2
}
