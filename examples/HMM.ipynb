{
 "cells": [
  {
   "cell_type": "markdown",
   "id": "81fcb893",
   "metadata": {},
   "source": [
    "# HMM Experiment example"
   ]
  },
  {
   "cell_type": "markdown",
   "id": "02cc365a",
   "metadata": {},
   "source": [
    "In this example, we will use the HMM dataset provided by this package, get some attributions,\n",
    "and evaluate them."
   ]
  },
  {
   "cell_type": "markdown",
   "id": "8131df67",
   "metadata": {},
   "source": [
    "### Imports"
   ]
  },
  {
   "cell_type": "code",
   "execution_count": 1,
   "id": "bf20266a",
   "metadata": {},
   "outputs": [
    {
     "name": "stderr",
     "output_type": "stream",
     "text": [
      "/Users/joseph.enguehard/opt/miniconda3/envs/tint/lib/python3.9/site-packages/scipy/__init__.py:146: UserWarning: A NumPy version >=1.16.5 and <1.23.0 is required for this version of SciPy (detected version 1.23.1\n",
      "  warnings.warn(f\"A NumPy version >={np_minversion} and <{np_maxversion}\"\n"
     ]
    }
   ],
   "source": [
    "import torch as th\n",
    "\n",
    "from pytorch_lightning import Trainer, seed_everything\n",
    "\n",
    "from tint.attr import TemporalAugmentedOcclusion, TimeForwardTunnel\n",
    "from tint.datasets import HMM\n",
    "from tint.metrics.white_box import aur\n",
    "\n",
    "from experiments.hmm.classifier import StateClassifierNet"
   ]
  },
  {
   "cell_type": "markdown",
   "id": "ad6a1117",
   "metadata": {},
   "source": [
    "### Make reproducible experiment "
   ]
  },
  {
   "cell_type": "markdown",
   "id": "8f06292c",
   "metadata": {},
   "source": [
    "For this example, we will make everything reproducible. With this aim, we use the \n",
    "tool from Pytorch-Lightning: seed_everything."
   ]
  },
  {
   "cell_type": "code",
   "execution_count": 2,
   "id": "455bd164",
   "metadata": {},
   "outputs": [
    {
     "name": "stderr",
     "output_type": "stream",
     "text": [
      "Global seed set to 42\n"
     ]
    },
    {
     "data": {
      "text/plain": [
       "42"
      ]
     },
     "execution_count": 2,
     "metadata": {},
     "output_type": "execute_result"
    }
   ],
   "source": [
    "seed = 42\n",
    "seed_everything(seed=seed, workers=True)"
   ]
  },
  {
   "cell_type": "markdown",
   "id": "ca50bb6c",
   "metadata": {},
   "source": [
    "### Data loading"
   ]
  },
  {
   "cell_type": "markdown",
   "id": "8c30d964",
   "metadata": {},
   "source": [
    "We load the HMM (Hidden Markov Model) dataset, and eventually download it (since arma is a synthetic dataset, \n",
    "download actually generates the data)."
   ]
  },
  {
   "cell_type": "code",
   "execution_count": 3,
   "id": "afb4db39",
   "metadata": {},
   "outputs": [],
   "source": [
    "hmm = HMM(seed=seed)"
   ]
  },
  {
   "cell_type": "markdown",
   "id": "2918d99e",
   "metadata": {},
   "source": [
    "### Create and train a simple classifier"
   ]
  },
  {
   "cell_type": "markdown",
   "id": "02b4067b",
   "metadata": {},
   "source": [
    "We will now train a simple classifier (a GRU followed by a MLP) over the HMM dataset.\n",
    "This dataset provides indeed labels, generated given the hidden states of the HMM.\n",
    "\n",
    "We use the Pytorch-Lightning framework to efficiently train this model. Here, the \n",
    "accelerator is set to ``cpu``, but feel free to change this to ``gpu``."
   ]
  },
  {
   "cell_type": "code",
   "execution_count": 4,
   "id": "50076fec",
   "metadata": {},
   "outputs": [],
   "source": [
    "accelerator = \"cpu\""
   ]
  },
  {
   "cell_type": "code",
   "execution_count": 5,
   "id": "b0beb273",
   "metadata": {},
   "outputs": [],
   "source": [
    "classifier = StateClassifierNet(\n",
    "    feature_size=3,\n",
    "    n_state=2,\n",
    "    hidden_size=200,\n",
    "    regres=True,\n",
    "    loss=\"cross_entropy\",\n",
    "    lr=0.0001,\n",
    "    l2=1e-3,\n",
    ")"
   ]
  },
  {
   "cell_type": "code",
   "execution_count": 6,
   "id": "19f058fe",
   "metadata": {},
   "outputs": [
    {
     "name": "stderr",
     "output_type": "stream",
     "text": [
      "GPU available: True (mps), used: False\n",
      "TPU available: False, using: 0 TPU cores\n",
      "IPU available: False, using: 0 IPUs\n",
      "HPU available: False, using: 0 HPUs\n",
      "\n",
      "   | Name        | Type             | Params\n",
      "--------------------------------------------------\n",
      "0  | net         | StateClassifier  | 123 K \n",
      "1  | _loss       | CrossEntropyLoss | 0     \n",
      "2  | train_acc   | Accuracy         | 0     \n",
      "3  | train_pre   | Precision        | 0     \n",
      "4  | train_rec   | Recall           | 0     \n",
      "5  | train_auroc | AUROC            | 0     \n",
      "6  | val_acc     | Accuracy         | 0     \n",
      "7  | val_pre     | Precision        | 0     \n",
      "8  | val_rec     | Recall           | 0     \n",
      "9  | val_auroc   | AUROC            | 0     \n",
      "10 | test_acc    | Accuracy         | 0     \n",
      "11 | test_pre    | Precision        | 0     \n",
      "12 | test_rec    | Recall           | 0     \n",
      "13 | test_auroc  | AUROC            | 0     \n",
      "--------------------------------------------------\n",
      "123 K     Trainable params\n",
      "0         Non-trainable params\n",
      "123 K     Total params\n",
      "0.495     Total estimated model params size (MB)\n"
     ]
    },
    {
     "data": {
      "application/vnd.jupyter.widget-view+json": {
       "model_id": "",
       "version_major": 2,
       "version_minor": 0
      },
      "text/plain": [
       "Sanity Checking: 0it [00:00, ?it/s]"
      ]
     },
     "metadata": {},
     "output_type": "display_data"
    },
    {
     "data": {
      "application/vnd.jupyter.widget-view+json": {
       "model_id": "978b487cb2a745c8b23fff4083849e47",
       "version_major": 2,
       "version_minor": 0
      },
      "text/plain": [
       "Training: 0it [00:00, ?it/s]"
      ]
     },
     "metadata": {},
     "output_type": "display_data"
    },
    {
     "data": {
      "application/vnd.jupyter.widget-view+json": {
       "model_id": "",
       "version_major": 2,
       "version_minor": 0
      },
      "text/plain": [
       "Validation: 0it [00:00, ?it/s]"
      ]
     },
     "metadata": {},
     "output_type": "display_data"
    },
    {
     "data": {
      "application/vnd.jupyter.widget-view+json": {
       "model_id": "",
       "version_major": 2,
       "version_minor": 0
      },
      "text/plain": [
       "Validation: 0it [00:00, ?it/s]"
      ]
     },
     "metadata": {},
     "output_type": "display_data"
    },
    {
     "data": {
      "application/vnd.jupyter.widget-view+json": {
       "model_id": "",
       "version_major": 2,
       "version_minor": 0
      },
      "text/plain": [
       "Validation: 0it [00:00, ?it/s]"
      ]
     },
     "metadata": {},
     "output_type": "display_data"
    },
    {
     "data": {
      "application/vnd.jupyter.widget-view+json": {
       "model_id": "",
       "version_major": 2,
       "version_minor": 0
      },
      "text/plain": [
       "Validation: 0it [00:00, ?it/s]"
      ]
     },
     "metadata": {},
     "output_type": "display_data"
    },
    {
     "data": {
      "application/vnd.jupyter.widget-view+json": {
       "model_id": "",
       "version_major": 2,
       "version_minor": 0
      },
      "text/plain": [
       "Validation: 0it [00:00, ?it/s]"
      ]
     },
     "metadata": {},
     "output_type": "display_data"
    },
    {
     "data": {
      "application/vnd.jupyter.widget-view+json": {
       "model_id": "",
       "version_major": 2,
       "version_minor": 0
      },
      "text/plain": [
       "Validation: 0it [00:00, ?it/s]"
      ]
     },
     "metadata": {},
     "output_type": "display_data"
    },
    {
     "data": {
      "application/vnd.jupyter.widget-view+json": {
       "model_id": "",
       "version_major": 2,
       "version_minor": 0
      },
      "text/plain": [
       "Validation: 0it [00:00, ?it/s]"
      ]
     },
     "metadata": {},
     "output_type": "display_data"
    },
    {
     "data": {
      "application/vnd.jupyter.widget-view+json": {
       "model_id": "",
       "version_major": 2,
       "version_minor": 0
      },
      "text/plain": [
       "Validation: 0it [00:00, ?it/s]"
      ]
     },
     "metadata": {},
     "output_type": "display_data"
    },
    {
     "data": {
      "application/vnd.jupyter.widget-view+json": {
       "model_id": "",
       "version_major": 2,
       "version_minor": 0
      },
      "text/plain": [
       "Validation: 0it [00:00, ?it/s]"
      ]
     },
     "metadata": {},
     "output_type": "display_data"
    },
    {
     "data": {
      "application/vnd.jupyter.widget-view+json": {
       "model_id": "",
       "version_major": 2,
       "version_minor": 0
      },
      "text/plain": [
       "Validation: 0it [00:00, ?it/s]"
      ]
     },
     "metadata": {},
     "output_type": "display_data"
    },
    {
     "data": {
      "application/vnd.jupyter.widget-view+json": {
       "model_id": "",
       "version_major": 2,
       "version_minor": 0
      },
      "text/plain": [
       "Validation: 0it [00:00, ?it/s]"
      ]
     },
     "metadata": {},
     "output_type": "display_data"
    },
    {
     "data": {
      "application/vnd.jupyter.widget-view+json": {
       "model_id": "",
       "version_major": 2,
       "version_minor": 0
      },
      "text/plain": [
       "Validation: 0it [00:00, ?it/s]"
      ]
     },
     "metadata": {},
     "output_type": "display_data"
    },
    {
     "data": {
      "application/vnd.jupyter.widget-view+json": {
       "model_id": "",
       "version_major": 2,
       "version_minor": 0
      },
      "text/plain": [
       "Validation: 0it [00:00, ?it/s]"
      ]
     },
     "metadata": {},
     "output_type": "display_data"
    },
    {
     "data": {
      "application/vnd.jupyter.widget-view+json": {
       "model_id": "",
       "version_major": 2,
       "version_minor": 0
      },
      "text/plain": [
       "Validation: 0it [00:00, ?it/s]"
      ]
     },
     "metadata": {},
     "output_type": "display_data"
    },
    {
     "data": {
      "application/vnd.jupyter.widget-view+json": {
       "model_id": "",
       "version_major": 2,
       "version_minor": 0
      },
      "text/plain": [
       "Validation: 0it [00:00, ?it/s]"
      ]
     },
     "metadata": {},
     "output_type": "display_data"
    },
    {
     "data": {
      "application/vnd.jupyter.widget-view+json": {
       "model_id": "",
       "version_major": 2,
       "version_minor": 0
      },
      "text/plain": [
       "Validation: 0it [00:00, ?it/s]"
      ]
     },
     "metadata": {},
     "output_type": "display_data"
    },
    {
     "data": {
      "application/vnd.jupyter.widget-view+json": {
       "model_id": "",
       "version_major": 2,
       "version_minor": 0
      },
      "text/plain": [
       "Validation: 0it [00:00, ?it/s]"
      ]
     },
     "metadata": {},
     "output_type": "display_data"
    },
    {
     "data": {
      "application/vnd.jupyter.widget-view+json": {
       "model_id": "",
       "version_major": 2,
       "version_minor": 0
      },
      "text/plain": [
       "Validation: 0it [00:00, ?it/s]"
      ]
     },
     "metadata": {},
     "output_type": "display_data"
    },
    {
     "data": {
      "application/vnd.jupyter.widget-view+json": {
       "model_id": "",
       "version_major": 2,
       "version_minor": 0
      },
      "text/plain": [
       "Validation: 0it [00:00, ?it/s]"
      ]
     },
     "metadata": {},
     "output_type": "display_data"
    },
    {
     "data": {
      "application/vnd.jupyter.widget-view+json": {
       "model_id": "",
       "version_major": 2,
       "version_minor": 0
      },
      "text/plain": [
       "Validation: 0it [00:00, ?it/s]"
      ]
     },
     "metadata": {},
     "output_type": "display_data"
    },
    {
     "data": {
      "application/vnd.jupyter.widget-view+json": {
       "model_id": "",
       "version_major": 2,
       "version_minor": 0
      },
      "text/plain": [
       "Validation: 0it [00:00, ?it/s]"
      ]
     },
     "metadata": {},
     "output_type": "display_data"
    },
    {
     "data": {
      "application/vnd.jupyter.widget-view+json": {
       "model_id": "",
       "version_major": 2,
       "version_minor": 0
      },
      "text/plain": [
       "Validation: 0it [00:00, ?it/s]"
      ]
     },
     "metadata": {},
     "output_type": "display_data"
    },
    {
     "data": {
      "application/vnd.jupyter.widget-view+json": {
       "model_id": "",
       "version_major": 2,
       "version_minor": 0
      },
      "text/plain": [
       "Validation: 0it [00:00, ?it/s]"
      ]
     },
     "metadata": {},
     "output_type": "display_data"
    },
    {
     "data": {
      "application/vnd.jupyter.widget-view+json": {
       "model_id": "",
       "version_major": 2,
       "version_minor": 0
      },
      "text/plain": [
       "Validation: 0it [00:00, ?it/s]"
      ]
     },
     "metadata": {},
     "output_type": "display_data"
    },
    {
     "data": {
      "application/vnd.jupyter.widget-view+json": {
       "model_id": "",
       "version_major": 2,
       "version_minor": 0
      },
      "text/plain": [
       "Validation: 0it [00:00, ?it/s]"
      ]
     },
     "metadata": {},
     "output_type": "display_data"
    },
    {
     "data": {
      "application/vnd.jupyter.widget-view+json": {
       "model_id": "",
       "version_major": 2,
       "version_minor": 0
      },
      "text/plain": [
       "Validation: 0it [00:00, ?it/s]"
      ]
     },
     "metadata": {},
     "output_type": "display_data"
    },
    {
     "data": {
      "application/vnd.jupyter.widget-view+json": {
       "model_id": "",
       "version_major": 2,
       "version_minor": 0
      },
      "text/plain": [
       "Validation: 0it [00:00, ?it/s]"
      ]
     },
     "metadata": {},
     "output_type": "display_data"
    },
    {
     "data": {
      "application/vnd.jupyter.widget-view+json": {
       "model_id": "",
       "version_major": 2,
       "version_minor": 0
      },
      "text/plain": [
       "Validation: 0it [00:00, ?it/s]"
      ]
     },
     "metadata": {},
     "output_type": "display_data"
    },
    {
     "data": {
      "application/vnd.jupyter.widget-view+json": {
       "model_id": "",
       "version_major": 2,
       "version_minor": 0
      },
      "text/plain": [
       "Validation: 0it [00:00, ?it/s]"
      ]
     },
     "metadata": {},
     "output_type": "display_data"
    },
    {
     "data": {
      "application/vnd.jupyter.widget-view+json": {
       "model_id": "",
       "version_major": 2,
       "version_minor": 0
      },
      "text/plain": [
       "Validation: 0it [00:00, ?it/s]"
      ]
     },
     "metadata": {},
     "output_type": "display_data"
    },
    {
     "data": {
      "application/vnd.jupyter.widget-view+json": {
       "model_id": "",
       "version_major": 2,
       "version_minor": 0
      },
      "text/plain": [
       "Validation: 0it [00:00, ?it/s]"
      ]
     },
     "metadata": {},
     "output_type": "display_data"
    },
    {
     "data": {
      "application/vnd.jupyter.widget-view+json": {
       "model_id": "",
       "version_major": 2,
       "version_minor": 0
      },
      "text/plain": [
       "Validation: 0it [00:00, ?it/s]"
      ]
     },
     "metadata": {},
     "output_type": "display_data"
    },
    {
     "data": {
      "application/vnd.jupyter.widget-view+json": {
       "model_id": "",
       "version_major": 2,
       "version_minor": 0
      },
      "text/plain": [
       "Validation: 0it [00:00, ?it/s]"
      ]
     },
     "metadata": {},
     "output_type": "display_data"
    },
    {
     "data": {
      "application/vnd.jupyter.widget-view+json": {
       "model_id": "",
       "version_major": 2,
       "version_minor": 0
      },
      "text/plain": [
       "Validation: 0it [00:00, ?it/s]"
      ]
     },
     "metadata": {},
     "output_type": "display_data"
    },
    {
     "data": {
      "application/vnd.jupyter.widget-view+json": {
       "model_id": "",
       "version_major": 2,
       "version_minor": 0
      },
      "text/plain": [
       "Validation: 0it [00:00, ?it/s]"
      ]
     },
     "metadata": {},
     "output_type": "display_data"
    },
    {
     "data": {
      "application/vnd.jupyter.widget-view+json": {
       "model_id": "",
       "version_major": 2,
       "version_minor": 0
      },
      "text/plain": [
       "Validation: 0it [00:00, ?it/s]"
      ]
     },
     "metadata": {},
     "output_type": "display_data"
    },
    {
     "data": {
      "application/vnd.jupyter.widget-view+json": {
       "model_id": "",
       "version_major": 2,
       "version_minor": 0
      },
      "text/plain": [
       "Validation: 0it [00:00, ?it/s]"
      ]
     },
     "metadata": {},
     "output_type": "display_data"
    },
    {
     "data": {
      "application/vnd.jupyter.widget-view+json": {
       "model_id": "",
       "version_major": 2,
       "version_minor": 0
      },
      "text/plain": [
       "Validation: 0it [00:00, ?it/s]"
      ]
     },
     "metadata": {},
     "output_type": "display_data"
    },
    {
     "data": {
      "application/vnd.jupyter.widget-view+json": {
       "model_id": "",
       "version_major": 2,
       "version_minor": 0
      },
      "text/plain": [
       "Validation: 0it [00:00, ?it/s]"
      ]
     },
     "metadata": {},
     "output_type": "display_data"
    },
    {
     "data": {
      "application/vnd.jupyter.widget-view+json": {
       "model_id": "",
       "version_major": 2,
       "version_minor": 0
      },
      "text/plain": [
       "Validation: 0it [00:00, ?it/s]"
      ]
     },
     "metadata": {},
     "output_type": "display_data"
    },
    {
     "data": {
      "application/vnd.jupyter.widget-view+json": {
       "model_id": "",
       "version_major": 2,
       "version_minor": 0
      },
      "text/plain": [
       "Validation: 0it [00:00, ?it/s]"
      ]
     },
     "metadata": {},
     "output_type": "display_data"
    },
    {
     "data": {
      "application/vnd.jupyter.widget-view+json": {
       "model_id": "",
       "version_major": 2,
       "version_minor": 0
      },
      "text/plain": [
       "Validation: 0it [00:00, ?it/s]"
      ]
     },
     "metadata": {},
     "output_type": "display_data"
    },
    {
     "data": {
      "application/vnd.jupyter.widget-view+json": {
       "model_id": "",
       "version_major": 2,
       "version_minor": 0
      },
      "text/plain": [
       "Validation: 0it [00:00, ?it/s]"
      ]
     },
     "metadata": {},
     "output_type": "display_data"
    },
    {
     "data": {
      "application/vnd.jupyter.widget-view+json": {
       "model_id": "",
       "version_major": 2,
       "version_minor": 0
      },
      "text/plain": [
       "Validation: 0it [00:00, ?it/s]"
      ]
     },
     "metadata": {},
     "output_type": "display_data"
    },
    {
     "data": {
      "application/vnd.jupyter.widget-view+json": {
       "model_id": "",
       "version_major": 2,
       "version_minor": 0
      },
      "text/plain": [
       "Validation: 0it [00:00, ?it/s]"
      ]
     },
     "metadata": {},
     "output_type": "display_data"
    },
    {
     "data": {
      "application/vnd.jupyter.widget-view+json": {
       "model_id": "",
       "version_major": 2,
       "version_minor": 0
      },
      "text/plain": [
       "Validation: 0it [00:00, ?it/s]"
      ]
     },
     "metadata": {},
     "output_type": "display_data"
    },
    {
     "data": {
      "application/vnd.jupyter.widget-view+json": {
       "model_id": "",
       "version_major": 2,
       "version_minor": 0
      },
      "text/plain": [
       "Validation: 0it [00:00, ?it/s]"
      ]
     },
     "metadata": {},
     "output_type": "display_data"
    },
    {
     "data": {
      "application/vnd.jupyter.widget-view+json": {
       "model_id": "",
       "version_major": 2,
       "version_minor": 0
      },
      "text/plain": [
       "Validation: 0it [00:00, ?it/s]"
      ]
     },
     "metadata": {},
     "output_type": "display_data"
    },
    {
     "data": {
      "application/vnd.jupyter.widget-view+json": {
       "model_id": "",
       "version_major": 2,
       "version_minor": 0
      },
      "text/plain": [
       "Validation: 0it [00:00, ?it/s]"
      ]
     },
     "metadata": {},
     "output_type": "display_data"
    },
    {
     "data": {
      "application/vnd.jupyter.widget-view+json": {
       "model_id": "",
       "version_major": 2,
       "version_minor": 0
      },
      "text/plain": [
       "Validation: 0it [00:00, ?it/s]"
      ]
     },
     "metadata": {},
     "output_type": "display_data"
    },
    {
     "name": "stderr",
     "output_type": "stream",
     "text": [
      "`Trainer.fit` stopped: `max_epochs=50` reached.\n"
     ]
    }
   ],
   "source": [
    "trainer = Trainer(\n",
    "    max_epochs=50, accelerator=accelerator, deterministic=True\n",
    ")\n",
    "trainer.fit(classifier, datamodule=hmm)"
   ]
  },
  {
   "cell_type": "markdown",
   "id": "4cf7771d",
   "metadata": {},
   "source": [
    "### Get train and test data"
   ]
  },
  {
   "cell_type": "markdown",
   "id": "b0d77876",
   "metadata": {},
   "source": [
    "We only compute the attributions over the test set. However, we will also need the train data here."
   ]
  },
  {
   "cell_type": "code",
   "execution_count": 7,
   "id": "3db47494",
   "metadata": {},
   "outputs": [],
   "source": [
    "x_train = hmm.preprocess(split=\"train\")[\"x\"].to(accelerator)\n",
    "x_test = hmm.preprocess(split=\"test\")[\"x\"].to(accelerator)"
   ]
  },
  {
   "cell_type": "markdown",
   "id": "9a052b62",
   "metadata": {},
   "source": [
    "### Utils"
   ]
  },
  {
   "cell_type": "markdown",
   "id": "fde710ae",
   "metadata": {},
   "source": [
    "We set the classifer to the ``evaluation`` mode, and we push it to the current accelerator.\n",
    "\n",
    "We also disable ``cudnn`` when using ``cuda``, as it cannot backpropagate when set on evaluation.\n",
    "Please refer to https://captum.ai/docs/faq#how-can-i-resolve-cudnn-rnn-backward-error-for-rnn-or-lstm-network \n",
    "for more information."
   ]
  },
  {
   "cell_type": "code",
   "execution_count": 8,
   "id": "621ed3fd",
   "metadata": {},
   "outputs": [],
   "source": [
    "# Switch to eval\n",
    "classifier.eval()\n",
    "\n",
    "# Set model to accelerator\n",
    "classifier.to(accelerator)\n",
    "\n",
    "if accelerator == \"cuda\":\n",
    "    th.backends.cudnn.enabled = False"
   ]
  },
  {
   "cell_type": "markdown",
   "id": "7b058fb4",
   "metadata": {},
   "source": [
    "### Create attributions using temporal augmented occlusion"
   ]
  },
  {
   "cell_type": "markdown",
   "id": "58f283cf",
   "metadata": {},
   "source": [
    "In this example, we will use ``temporal_augmented_occlusion`` as an attribution method, first presented \n",
    "in this paper: https://arxiv.org/abs/2003.02821. This method hides some data like the ``Occlusion`` method,\n",
    "however, instead of replacing the hidden data with a baseline, it samples this baseline\n",
    "from a bootstrapped distribution. Moreover, unlike the regular ``augmented_occlusion``, this method only \n",
    "hides data from the last time, leaving the past data unchanged.\n",
    "\n",
    "We also use a special tool: ``TimeForwardTunnel``. This method allows us to compute attributions\n",
    "at each different time using only the past as information. The ``TimeForwardTunnel`` then loops over \n",
    "every time to compute every attributions."
   ]
  },
  {
   "cell_type": "code",
   "execution_count": 9,
   "id": "235e53be",
   "metadata": {
    "scrolled": true
   },
   "outputs": [
    {
     "data": {
      "application/vnd.jupyter.widget-view+json": {
       "model_id": "3d50bc160e674fb69d9a7e64c86e2c51",
       "version_major": 2,
       "version_minor": 0
      },
      "text/plain": [
       "Temporal Augmented Occlusion attribution:   0%|          | 0/20 [00:00<?, ?it/s]"
      ]
     },
     "metadata": {},
     "output_type": "display_data"
    }
   ],
   "source": [
    "explainer = TimeForwardTunnel(\n",
    "    TemporalAugmentedOcclusion(\n",
    "        classifier, data=x_train, n_sampling=10, is_temporal=True\n",
    "    )\n",
    ")\n",
    "\n",
    "attr = explainer.attribute(\n",
    "    x_test,\n",
    "    sliding_window_shapes=(1,),\n",
    "    attributions_fn=abs,\n",
    "    task=\"binary\",\n",
    "    show_progress=True,\n",
    ").abs()"
   ]
  },
  {
   "cell_type": "markdown",
   "id": "298a90b6",
   "metadata": {},
   "source": [
    "### Attributions evaluation"
   ]
  },
  {
   "cell_type": "markdown",
   "id": "b0d94a26",
   "metadata": {},
   "source": [
    "Since we know the true attributions, we can evaluate our computed attributions \n",
    "using our white-box metrics. For instance, we compute here the ``aur`` (area under recall):"
   ]
  },
  {
   "cell_type": "code",
   "execution_count": 10,
   "id": "d3fd8c85",
   "metadata": {},
   "outputs": [],
   "source": [
    "# Get true saliency\n",
    "true_saliency = hmm.true_saliency(split=\"test\").to(accelerator)"
   ]
  },
  {
   "cell_type": "code",
   "execution_count": 11,
   "id": "61505d0d",
   "metadata": {},
   "outputs": [
    {
     "name": "stdout",
     "output_type": "stream",
     "text": [
      "0.4847\n"
     ]
    }
   ],
   "source": [
    "print(f\"{aur(attr, true_saliency):.4}\")"
   ]
  },
  {
   "cell_type": "markdown",
   "id": "11303c7d",
   "metadata": {},
   "source": [
    "This is slightly better than the results reported in https://arxiv.org/pdf/2106.05303.\n",
    "\n",
    "There are however better methods than temporal_augmented_occlusion for this task. For more details, \n",
    "please refer to our ``experiments/hmm`` section."
   ]
  },
  {
   "cell_type": "code",
   "execution_count": null,
   "id": "3154b02d",
   "metadata": {},
   "outputs": [],
   "source": []
  }
 ],
 "metadata": {
  "kernelspec": {
   "display_name": "Python 3 (ipykernel)",
   "language": "python",
   "name": "python3"
  },
  "language_info": {
   "codemirror_mode": {
    "name": "ipython",
    "version": 3
   },
   "file_extension": ".py",
   "mimetype": "text/x-python",
   "name": "python",
   "nbconvert_exporter": "python",
   "pygments_lexer": "ipython3",
   "version": "3.9.7"
  }
 },
 "nbformat": 4,
 "nbformat_minor": 5
}
