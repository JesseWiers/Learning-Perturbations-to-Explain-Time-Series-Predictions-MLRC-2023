{
 "cells": [
  {
   "cell_type": "code",
   "execution_count": null,
   "metadata": {},
   "outputs": [],
   "source": [
    "\"\"\"\n",
    "Make sure you have installed the requirement from requirements.txt\n",
    "This script is used to perform hyperparameter optimization for the ExtremalMaskNet model on the MIMIC-III dataset.\n",
    "\n",
    "The hyperparameter being optimized is the type of model to use for the ExtremalMaskNet(zero, gru and bi-gru).\n",
    "\n",
    "The `objective` function defines the objective for the study, which includes the creation of the models, the definition of the hyperparameters to optimize, and the computation of the objective value.\n",
    "\n",
    "The `main` function sets up the data, the classifier, and the Optuna study, and then optimizes the study.\n",
    "\n",
    "The script can be run from the command line with various options, such as whether to use pruning, which metric to use, the number of trials, and the device to use for training.\n",
    "\n",
    "Example:\n",
    "    python extremal_mask_params.py --pruning --metric cross_entropy --n-trials 10 --device cuda:0\n",
    "\"\"\""
   ]
  },
  {
   "cell_type": "code",
   "execution_count": 8,
   "metadata": {},
   "outputs": [
    {
     "name": "stdout",
     "output_type": "stream",
     "text": [
      "/Users/raoulritter/time_interpret_2/examples\n"
     ]
    }
   ],
   "source": [
    "!pwd\n",
    "!cd /../../ # change to root directory\n"
   ]
  },
  {
   "cell_type": "code",
   "execution_count": 3,
   "metadata": {},
   "outputs": [
    {
     "name": "stdout",
     "output_type": "stream",
     "text": [
      "cp: directory sample_data does not exist\n"
     ]
    }
   ],
   "source": [
    "# !scp drive/MyDrive/time_interpret.zip sample_data/"
   ]
  },
  {
   "cell_type": "code",
   "execution_count": 2,
   "metadata": {},
   "outputs": [
    {
     "name": "stdout",
     "output_type": "stream",
     "text": [
      "python3: can't open file '/Users/raoulritter/time_interpret_final/examples/time_interpret/experiments/mimic3/mortality/extremal_mask_params.py': [Errno 2] No such file or directory\n"
     ]
    }
   ],
   "source": [
    "# The following allows you to run the extremal_mask_params. Make sure that your mimic3 data is in the tint/data/mimic3 directory. \n",
    "# This can be achieved by having the Postgres database setup and running the scripts in the tint/data/mimic3 directory.\n",
    "# in unsure you can run it with:\n",
    "\n",
    "# !python3 tint/datasets/mimic3.py\n",
    "\n",
    "# !cd ../../ && ls\n",
    "!python3 time_interpret/experiments/mimic3/mortality/extremal_mask_params.py --n-trials 10 --device \"cpu\""
   ]
  }
 ],
 "metadata": {
  "kernelspec": {
   "display_name": "time_interpret",
   "language": "python",
   "name": "python3"
  },
  "language_info": {
   "codemirror_mode": {
    "name": "ipython",
    "version": 3
   },
   "file_extension": ".py",
   "mimetype": "text/x-python",
   "name": "python",
   "nbconvert_exporter": "python",
   "pygments_lexer": "ipython3",
   "version": "3.11.7"
  }
 },
 "nbformat": 4,
 "nbformat_minor": 2
}
