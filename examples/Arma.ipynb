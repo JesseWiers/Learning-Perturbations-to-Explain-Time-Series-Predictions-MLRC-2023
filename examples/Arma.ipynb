{
 "cells": [
  {
   "cell_type": "markdown",
   "id": "23eb8080",
   "metadata": {},
   "source": [
    "# Arma Experiment example"
   ]
  },
  {
   "cell_type": "markdown",
   "id": "0bb6c591",
   "metadata": {},
   "source": [
    "In this example, we will use the ARMA dataset provided by this package, get some attributions,\n",
    "and evaluate them."
   ]
  },
  {
   "cell_type": "markdown",
   "id": "2b6e2ba1",
   "metadata": {},
   "source": [
    "### Imports"
   ]
  },
  {
   "cell_type": "code",
   "execution_count": 1,
   "id": "c879d7cc",
   "metadata": {},
   "outputs": [
    {
     "name": "stderr",
     "output_type": "stream",
     "text": [
      "/Users/joseph.enguehard/opt/miniconda3/envs/tint/lib/python3.9/site-packages/scipy/__init__.py:146: UserWarning: A NumPy version >=1.16.5 and <1.23.0 is required for this version of SciPy (detected version 1.23.1\n",
      "  warnings.warn(f\"A NumPy version >={np_minversion} and <{np_maxversion}\"\n"
     ]
    }
   ],
   "source": [
    "import torch as th\n",
    "\n",
    "from captum.attr import IntegratedGradients\n",
    "from pytorch_lightning import seed_everything\n",
    "\n",
    "from tint.datasets import Arma\n",
    "from tint.metrics.white_box import aur"
   ]
  },
  {
   "cell_type": "markdown",
   "id": "3bb34002",
   "metadata": {},
   "source": [
    "### Make reproducible experiment "
   ]
  },
  {
   "cell_type": "markdown",
   "id": "66bb835a",
   "metadata": {},
   "source": [
    "For this example, we will make everything reproducible. With this aim, we use the \n",
    "tool from Pytorch-Lightning: seed_everything."
   ]
  },
  {
   "cell_type": "code",
   "execution_count": 2,
   "id": "f1dbc31a",
   "metadata": {},
   "outputs": [
    {
     "name": "stderr",
     "output_type": "stream",
     "text": [
      "Global seed set to 42\n"
     ]
    },
    {
     "data": {
      "text/plain": [
       "42"
      ]
     },
     "execution_count": 2,
     "metadata": {},
     "output_type": "execute_result"
    }
   ],
   "source": [
    "seed = 42\n",
    "seed_everything(seed=seed, workers=True)"
   ]
  },
  {
   "cell_type": "markdown",
   "id": "a6f682ce",
   "metadata": {},
   "source": [
    "### Data loading"
   ]
  },
  {
   "cell_type": "markdown",
   "id": "21823e24",
   "metadata": {},
   "source": [
    "We load the Arma dataset, and eventually download it (since arma is a synthetic dataset, \n",
    "download actually generates the data)."
   ]
  },
  {
   "cell_type": "code",
   "execution_count": 3,
   "id": "f057306d",
   "metadata": {},
   "outputs": [],
   "source": [
    "arma = Arma(seed=seed)"
   ]
  },
  {
   "cell_type": "code",
   "execution_count": 4,
   "id": "4a846825",
   "metadata": {},
   "outputs": [],
   "source": [
    "arma.download()"
   ]
  },
  {
   "cell_type": "markdown",
   "id": "97f4b559",
   "metadata": {},
   "source": [
    "For this example, we only use the first 10 processes. We load the input data as well as the true \n",
    "attributions. This synthetic example indeed provides this information, allowing us to evaluate \n",
    "each attribution method against it."
   ]
  },
  {
   "cell_type": "markdown",
   "id": "8cdd2646",
   "metadata": {},
   "source": [
    "We set ``dim=1`` as we want to reproduce the ``rare-features`` experiment from https://arxiv.org/pdf/2106.05303.\n",
    "\n",
    "Using ``dim=2`` would reproduce the ``rare-time`` experiment."
   ]
  },
  {
   "cell_type": "code",
   "execution_count": 5,
   "id": "28bce0c0",
   "metadata": {},
   "outputs": [],
   "source": [
    "# Only use the first 10 data points\n",
    "x = arma.preprocess()[\"x\"][:10]\n",
    "true_saliency = arma.true_saliency(dim=1)[:10]"
   ]
  },
  {
   "cell_type": "markdown",
   "id": "2c218756",
   "metadata": {},
   "source": [
    "### Create attributions using integrated_gradients"
   ]
  },
  {
   "cell_type": "markdown",
   "id": "cb7e0aa3",
   "metadata": {},
   "source": [
    "We will now get some attributions using the ``integrated_gradients`` method.\n",
    "\n",
    "The ``forward_func`` associated with Arma is a simple deterministic function: ``get_white_box``.\n",
    "Please refer to https://arxiv.org/pdf/2106.05303 for more information.\n",
    "\n",
    "The baselines used here are only zeros."
   ]
  },
  {
   "cell_type": "code",
   "execution_count": 6,
   "id": "8b61229e",
   "metadata": {},
   "outputs": [],
   "source": [
    "attr = th.zeros_like(x)\n",
    "for i, (inputs, saliency) in enumerate(zip(x, true_saliency)):\n",
    "    explainer = IntegratedGradients(forward_func=arma.get_white_box)\n",
    "    baseline = inputs * 0\n",
    "    attr[i] = explainer.attribute(\n",
    "        inputs,\n",
    "        baselines=baseline,\n",
    "        additional_forward_args=(saliency,),\n",
    "    ).abs()"
   ]
  },
  {
   "cell_type": "markdown",
   "id": "b0de07dd",
   "metadata": {},
   "source": [
    "### Attributions evaluation"
   ]
  },
  {
   "cell_type": "markdown",
   "id": "2344d423",
   "metadata": {},
   "source": [
    "Since we know the true attributions, we can evaluate our computed attributions \n",
    "using our white-box metrics. For instance, we compute here the ``aur`` (area under recall):"
   ]
  },
  {
   "cell_type": "code",
   "execution_count": 7,
   "id": "f68d3ba8",
   "metadata": {},
   "outputs": [
    {
     "name": "stdout",
     "output_type": "stream",
     "text": [
      "0.1348\n"
     ]
    }
   ],
   "source": [
    "print(f\"{aur(attr, true_saliency):.4}\")"
   ]
  },
  {
   "cell_type": "markdown",
   "id": "924b0024",
   "metadata": {},
   "source": [
    "Not a great result! This is close to the results reported in https://arxiv.org/pdf/2106.05303.\n",
    "\n",
    "There are indeed better methods than integrated_gradients for this task. For more details, \n",
    "please refer to our ``experiments/arma`` section."
   ]
  },
  {
   "cell_type": "code",
   "execution_count": null,
   "id": "c94a11af",
   "metadata": {},
   "outputs": [],
   "source": []
  }
 ],
 "metadata": {
  "kernelspec": {
   "display_name": "Python 3 (ipykernel)",
   "language": "python",
   "name": "python3"
  },
  "language_info": {
   "codemirror_mode": {
    "name": "ipython",
    "version": 3
   },
   "file_extension": ".py",
   "mimetype": "text/x-python",
   "name": "python",
   "nbconvert_exporter": "python",
   "pygments_lexer": "ipython3",
   "version": "3.9.7"
  }
 },
 "nbformat": 4,
 "nbformat_minor": 5
}
