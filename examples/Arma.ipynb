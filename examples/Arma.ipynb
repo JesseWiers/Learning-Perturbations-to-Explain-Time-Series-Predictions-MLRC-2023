{
 "cells": [
  {
   "cell_type": "markdown",
   "id": "d3da9156",
   "metadata": {},
   "source": [
    "# Arma Experiment example"
   ]
  },
  {
   "cell_type": "markdown",
   "id": "cc153d44",
   "metadata": {},
   "source": [
    "In this example, we will use the ARMA dataset provided by this package, get some attributions,\n",
    "and evaluate them."
   ]
  },
  {
   "cell_type": "markdown",
   "id": "c6c2f987",
   "metadata": {},
   "source": [
    "### Imports"
   ]
  },
  {
   "cell_type": "code",
   "execution_count": 1,
   "id": "cbb013e1",
   "metadata": {},
   "outputs": [
    {
     "name": "stderr",
     "output_type": "stream",
     "text": [
      "/Users/joseph.enguehard/opt/miniconda3/envs/tint/lib/python3.9/site-packages/scipy/__init__.py:146: UserWarning: A NumPy version >=1.16.5 and <1.23.0 is required for this version of SciPy (detected version 1.23.1\n",
      "  warnings.warn(f\"A NumPy version >={np_minversion} and <{np_maxversion}\"\n"
     ]
    }
   ],
   "source": [
    "import torch as th\n",
    "\n",
    "from captum.attr import IntegratedGradients\n",
    "from pytorch_lightning import seed_everything\n",
    "\n",
    "from tint.datasets import Arma\n",
    "from tint.metrics.white_box import aur"
   ]
  },
  {
   "cell_type": "markdown",
   "id": "55f993ff",
   "metadata": {},
   "source": [
    "### Make reproducible experiment "
   ]
  },
  {
   "cell_type": "markdown",
   "id": "d7ee9b9a",
   "metadata": {},
   "source": [
    "For this example, we will make everything reproducible. With this aim, we use the \n",
    "tool from Pytorch-Lightning: seed_everything."
   ]
  },
  {
   "cell_type": "code",
   "execution_count": 2,
   "id": "00db1bc6",
   "metadata": {},
   "outputs": [
    {
     "name": "stderr",
     "output_type": "stream",
     "text": [
      "Global seed set to 42\n"
     ]
    },
    {
     "data": {
      "text/plain": [
       "42"
      ]
     },
     "execution_count": 2,
     "metadata": {},
     "output_type": "execute_result"
    }
   ],
   "source": [
    "seed = 42\n",
    "seed_everything(seed=seed, workers=True)"
   ]
  },
  {
   "cell_type": "markdown",
   "id": "3014f789",
   "metadata": {},
   "source": [
    "### Data loading"
   ]
  },
  {
   "cell_type": "markdown",
   "id": "461b5f9e",
   "metadata": {},
   "source": [
    "We load the Arma dataset, and eventually download it (since arma is a synthetic dataset, \n",
    "download actually generates the data)."
   ]
  },
  {
   "cell_type": "code",
   "execution_count": 3,
   "id": "d1a379d5",
   "metadata": {},
   "outputs": [],
   "source": [
    "arma = Arma(seed=seed)"
   ]
  },
  {
   "cell_type": "code",
   "execution_count": 4,
   "id": "00226b9f",
   "metadata": {},
   "outputs": [],
   "source": [
    "arma.download()"
   ]
  },
  {
   "cell_type": "markdown",
   "id": "5bac76e2",
   "metadata": {},
   "source": [
    "For this example, we only use the first 10 processes. We load the input data as well as the true \n",
    "attributions. This synthetic example indeed provides this information, allowing us to evaluate \n",
    "each attribution method against it."
   ]
  },
  {
   "cell_type": "markdown",
   "id": "0e835cb5",
   "metadata": {},
   "source": [
    "We set ``dim=1`` as we want to reproduce the ``rare-features`` experiment from https://arxiv.org/pdf/2106.05303.\n",
    "\n",
    "Using ``dim=2`` would reproduce the ``rare-time`` experiment."
   ]
  },
  {
   "cell_type": "code",
   "execution_count": 5,
   "id": "fbf9b19a",
   "metadata": {},
   "outputs": [],
   "source": [
    "# Only use the first 10 data points\n",
    "x = arma.preprocess()[\"x\"][:10]\n",
    "true_saliency = arma.true_saliency(dim=1)[:10]"
   ]
  },
  {
   "cell_type": "markdown",
   "id": "a7b934f9",
   "metadata": {},
   "source": [
    "### Create attributions using integrated_gradients"
   ]
  },
  {
   "cell_type": "markdown",
   "id": "e9ff4837",
   "metadata": {},
   "source": [
    "We will now get some attributions using the ``integrated_gradients`` method.\n",
    "\n",
    "The ``forward_func`` associated with Arma is a simple deterministic function: ``get_white_box``.\n",
    "Please refer to https://arxiv.org/pdf/2106.05303 for more information.\n",
    "\n",
    "The baselines used here are only zeros."
   ]
  },
  {
   "cell_type": "code",
   "execution_count": 6,
   "id": "1a5fb51e",
   "metadata": {},
   "outputs": [],
   "source": [
    "attr = th.zeros_like(x)\n",
    "for i, (inputs, saliency) in enumerate(zip(x, true_saliency)):\n",
    "    explainer = IntegratedGradients(forward_func=arma.get_white_box)\n",
    "    baseline = inputs * 0\n",
    "    attr[i] = explainer.attribute(\n",
    "        inputs,\n",
    "        baselines=baseline,\n",
    "        additional_forward_args=(saliency,),\n",
    "    ).abs()"
   ]
  },
  {
   "cell_type": "markdown",
   "id": "b0caa9b5",
   "metadata": {},
   "source": [
    "### Attributions evaluation"
   ]
  },
  {
   "cell_type": "markdown",
   "id": "5404f5d4",
   "metadata": {},
   "source": [
    "Since we know the true attributions, we can evaluate our computed attributions \n",
    "using our white-box metrics. For instance, we compute here the ``aur`` (area under recall):"
   ]
  },
  {
   "cell_type": "code",
   "execution_count": 7,
   "id": "8a5da339",
   "metadata": {},
   "outputs": [
    {
     "name": "stdout",
     "output_type": "stream",
     "text": [
      "0.1348\n"
     ]
    }
   ],
   "source": [
    "print(f\"{aur(attr, true_saliency):.4}\")"
   ]
  },
  {
   "cell_type": "markdown",
   "id": "bd852dd3",
   "metadata": {},
   "source": [
    "Not a great result! This is close to the results reported in https://arxiv.org/pdf/2106.05303.\n",
    "\n",
    "There are indeed better methods than integrated_gradients for this task. For more details, \n",
    "please refer to our ``experiments/arma`` section."
   ]
  },
  {
   "cell_type": "code",
   "execution_count": null,
   "id": "4f06a438",
   "metadata": {},
   "outputs": [],
   "source": []
  }
 ],
 "metadata": {
  "kernelspec": {
   "display_name": "Python 3 (ipykernel)",
   "language": "python",
   "name": "python3"
  },
  "language_info": {
   "codemirror_mode": {
    "name": "ipython",
    "version": 3
   },
   "file_extension": ".py",
   "mimetype": "text/x-python",
   "name": "python",
   "nbconvert_exporter": "python",
   "pygments_lexer": "ipython3",
   "version": "3.9.7"
  }
 },
 "nbformat": 4,
 "nbformat_minor": 5
}
