{
 "cells": [
  {
   "cell_type": "code",
   "execution_count": 1,
   "metadata": {},
   "outputs": [
    {
     "name": "stdout",
     "output_type": "stream",
     "text": [
      "0      2.203889\n",
      "1    145.549444\n",
      "2     40.283333\n",
      "3      2.026667\n",
      "4     88.150000\n",
      "Name: los_icu_hr, dtype: float64\n"
     ]
    },
    {
     "data": {
      "application/vnd.jupyter.widget-view+json": {
       "model_id": "b0fc7c94b653460f8740e29d629a2d83",
       "version_major": 2,
       "version_minor": 0
      },
      "text/plain": [
       "  0%|          | 0/27174 [00:00<?, ?it/s]"
      ]
     },
     "metadata": {},
     "output_type": "display_data"
    },
    {
     "name": "stdout",
     "output_type": "stream",
     "text": [
      "Done\n"
     ]
    }
   ],
   "source": [
    "# # from tint.datasets import mimic3\n",
    "\n",
    "# # print(mimic3.__doc__)\n",
    "# print(mimic3.__file__)\n",
    "\n",
    "\n",
    "# import sys\n",
    "# sys.path.insert(0, '/Users/raoulritter/time_interpret/tint/datasets')\n",
    "\n",
    "# print(sys.path)\n",
    "# from tint.datasets import mimic3\n",
    "\n",
    "# print(mimic3.__file__)\n",
    "\n",
    "# from tint.datasets import from tint.datasets import Mimic3\n",
    "from tint.datasets import Mimic3\n",
    "\n",
    "mimci3 = Mimic3()\n",
    "\n",
    "# print location of data\n",
    "mimci3.download(sqluser=\"mimicuser\", split=\"train\")\n",
    "print('Done')\n",
    "\n",
    "\n",
    "\n",
    "\n",
    "# mimci3.download(sqluser=\"mimicuser\", split=\"test\")"
   ]
  },
  {
   "cell_type": "code",
   "execution_count": null,
   "metadata": {},
   "outputs": [],
   "source": []
  }
 ],
 "metadata": {
  "kernelspec": {
   "display_name": "time_interpret",
   "language": "python",
   "name": "python3"
  },
  "language_info": {
   "codemirror_mode": {
    "name": "ipython",
    "version": 3
   },
   "file_extension": ".py",
   "mimetype": "text/x-python",
   "name": "python",
   "nbconvert_exporter": "python",
   "pygments_lexer": "ipython3",
   "version": "3.11.7"
  }
 },
 "nbformat": 4,
 "nbformat_minor": 2
}
